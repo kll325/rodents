{
 "cells": [
  {
   "cell_type": "code",
   "execution_count": 1,
   "metadata": {
    "collapsed": true
   },
   "outputs": [],
   "source": [
    "from music21 import *"
   ]
  },
  {
   "cell_type": "code",
   "execution_count": 21,
   "metadata": {},
   "outputs": [
    {
     "name": "stdout",
     "output_type": "stream",
     "text": [
      "[[], [], [], []]\n",
      "[[], [], [], []]\n",
      "[[], [], [], []]\n",
      "[[], [], [], []]\n",
      "[[], [], [], []]\n",
      "[[], [], [], []]\n",
      "[[], [], [], []]\n",
      "[[28], [2, 38], [29, 37, 66], [9]]\n",
      "[[5], [32], [12], [33]]\n",
      "[[], [], [], []]\n",
      "[[], [], [], []]\n",
      "[[], [], [], []]\n"
     ]
    }
   ],
   "source": [
    "f865=converter.parse('http://kern.humdrum.org/cgi-bin/ksdata?l=osu/classical/bach/wtc-1&file=wtc1f20.krn&f=kern')\n",
    "\n",
    "s=f865.parts[1]\n",
    "a=f865.parts[2]\n",
    "t=f865.parts[3]\n",
    "b=f865.parts[4]\n",
    "\n",
    "sr=s.recurse().notes\n",
    "ar=a.recurse().notes\n",
    "tr=t.recurse().notes\n",
    "br=b.recurse().notes\n",
    "\n",
    "partList=[sr,ar,tr,br]\n",
    "\n",
    "searchListE = [note.Note('E'), note.Note('F##')]\n",
    "searchListCb = [note.Note('C-'), note.Note('D')]\n",
    "searchListGb = [note.Note('G-'), note.Note('A')]\n",
    "searchListDb = [note.Note('D-'), note.Note('E')]\n",
    "searchListAb = [note.Note('A-'), note.Note('B')]\n",
    "searchListEb = [note.Note('E-'), note.Note('F#')]\n",
    "searchListBb = [note.Note('B-'), note.Note('C#')]\n",
    "searchListF = [note.Note('F'), note.Note('G#')]\n",
    "searchListC = [note.Note('C'), note.Note('D#')]\n",
    "searchListG = [note.Note('G'), note.Note('A#')]\n",
    "searchListD = [note.Note('D'), note.Note('E#')]\n",
    "searchListA = [note.Note('A'), note.Note('B#')]\n",
    "\n",
    "searchLists = [searchListE, searchListCb, searchListGb, searchListDb, searchListAb, searchListEb, searchListBb,searchListF,searchListC, searchListG, searchListD, searchListA]\n",
    "\n",
    "\n",
    "totallist=[]\n",
    "\n",
    "for searchList in searchLists:\n",
    "\n",
    "    allpList=[]\n",
    "    for pList in partList:\n",
    "        mlst=search.noteNameSearch(pList,searchList)\n",
    "        mlist=[]\n",
    "        for i in mlst:\n",
    "            if pList[i].pitch.frequency>pList[i+1].pitch.frequency:\n",
    "                mlist.append(pList[i].measureNumber)\n",
    "        allpList.append(mlist)\n",
    "    totallist.append(allpList)\n",
    "\n",
    "for i in totallist:\n",
    "    print(i)"
   ]
  },
  {
   "cell_type": "code",
   "execution_count": 7,
   "metadata": {},
   "outputs": [
    {
     "name": "stdout",
     "output_type": "stream",
     "text": [
      "[[], [], []]\n",
      "[[], [], []]\n",
      "[[], [], []]\n",
      "[[], [], []]\n",
      "[[], [], []]\n",
      "[[], [], []]\n",
      "[[21], [], []]\n",
      "[[6], [17, 28], [1, 26]]\n",
      "[[13], [3], []]\n",
      "[[], [], []]\n",
      "[[], [], []]\n",
      "[[], [], []]\n"
     ]
    }
   ],
   "source": [
    "f889=converter.parse('http://kern.humdrum.org/cgi-bin/ksdata?l=osu/classical/bach/wtc-2&file=wtc2f20.krn&f=kern')\n",
    "\n",
    "s=f889.parts[0]\n",
    "a=f889.parts[1]\n",
    "t=f889.parts[2]\n",
    "\n",
    "sr=s.recurse().notes\n",
    "ar=a.recurse().notes\n",
    "tr=t.recurse().notes\n",
    "\n",
    "partList=[sr,ar,tr]\n",
    "\n",
    "searchListE = [note.Note('E'), note.Note('F##')]\n",
    "searchListCb = [note.Note('C-'), note.Note('D')]\n",
    "searchListGb = [note.Note('G-'), note.Note('A')]\n",
    "searchListDb = [note.Note('D-'), note.Note('E')]\n",
    "searchListAb = [note.Note('A-'), note.Note('B')]\n",
    "searchListEb = [note.Note('E-'), note.Note('F#')]\n",
    "searchListBb = [note.Note('B-'), note.Note('C#')]\n",
    "searchListF = [note.Note('F'), note.Note('G#')]\n",
    "searchListC = [note.Note('C'), note.Note('D#')]\n",
    "searchListG = [note.Note('G'), note.Note('A#')]\n",
    "searchListD = [note.Note('D'), note.Note('E#')]\n",
    "searchListA = [note.Note('A'), note.Note('B#')]\n",
    "\n",
    "searchLists = [searchListE, searchListCb, searchListGb, searchListDb, searchListAb, searchListEb, searchListBb,searchListF,searchListC, searchListG, searchListD, searchListA]\n",
    "\n",
    "\n",
    "totallist=[]\n",
    "\n",
    "for searchList in searchLists:\n",
    "\n",
    "    allpList=[]\n",
    "    for pList in partList:\n",
    "        mlst=search.noteNameSearch(pList,searchList)\n",
    "        mlist=[]\n",
    "        for i in mlst:\n",
    "            if pList[i].pitch.frequency>pList[i+1].pitch.frequency:\n",
    "                mlist.append(pList[i].measureNumber)\n",
    "        allpList.append(mlist)\n",
    "    totallist.append(allpList)\n",
    "\n",
    "for i in totallist:\n",
    "    print(i)"
   ]
  },
  {
   "cell_type": "code",
   "execution_count": 37,
   "metadata": {},
   "outputs": [
    {
     "name": "stdout",
     "output_type": "stream",
     "text": [
      "[[], [], []]\n",
      "[[], [], []]\n",
      "[[], [], []]\n",
      "[[], [], []]\n",
      "[[], [], []]\n",
      "[[], [], []]\n",
      "[[], [], []]\n",
      "[[], [], [61]]\n",
      "[[85], [], [81]]\n",
      "[[], [69], []]\n",
      "[[], [], []]\n",
      "[[], [], []]\n"
     ]
    }
   ],
   "source": [
    "f879=converter.parse('http://kern.humdrum.org/cgi-bin/ksdata?l=osu/classical/bach/wtc-2&file=wtc2f10.krn&f=kern')\n",
    "\n",
    "\n",
    "s=f879.parts[0]\n",
    "a=f879.parts[1]\n",
    "t=f879.parts[2]\n",
    "\n",
    "sr=s.recurse().notes\n",
    "ar=a.recurse().notes\n",
    "tr=t.recurse().notes\n",
    "\n",
    "partList=[sr,ar,tr]\n",
    "\n",
    "searchListE = [note.Note('E'), note.Note('F##')]\n",
    "searchListCb = [note.Note('C-'), note.Note('D')]\n",
    "searchListGb = [note.Note('G-'), note.Note('A')]\n",
    "searchListDb = [note.Note('D-'), note.Note('E')]\n",
    "searchListAb = [note.Note('A-'), note.Note('B')]\n",
    "searchListEb = [note.Note('E-'), note.Note('F#')]\n",
    "searchListBb = [note.Note('B-'), note.Note('C#')]\n",
    "searchListF = [note.Note('F'), note.Note('G#')]\n",
    "searchListC = [note.Note('C'), note.Note('D#')]\n",
    "searchListG = [note.Note('G'), note.Note('A#')]\n",
    "searchListD = [note.Note('D'), note.Note('E#')]\n",
    "searchListA = [note.Note('A'), note.Note('B#')]\n",
    "\n",
    "searchLists = [searchListE, searchListCb, searchListGb, searchListDb, searchListAb, searchListEb, searchListBb,searchListF,searchListC, searchListG, searchListD, searchListA]\n",
    "\n",
    "\n",
    "totallist=[]\n",
    "\n",
    "for searchList in searchLists:\n",
    "\n",
    "    allpList=[]\n",
    "    for pList in partList:\n",
    "        mlst=search.noteNameSearch(pList,searchList)\n",
    "        mlist=[]\n",
    "        for i in mlst:\n",
    "            if pList[i].pitch.frequency>pList[i+1].pitch.frequency:\n",
    "                mlist.append(pList[i].measureNumber)\n",
    "        allpList.append(mlist)\n",
    "    totallist.append(allpList)\n",
    "\n",
    "for i in totallist:\n",
    "    print(i)"
   ]
  },
  {
   "cell_type": "code",
   "execution_count": null,
   "metadata": {
    "collapsed": true
   },
   "outputs": [],
   "source": []
  },
  {
   "cell_type": "code",
   "execution_count": 39,
   "metadata": {},
   "outputs": [
    {
     "name": "stdout",
     "output_type": "stream",
     "text": [
      "[[], [], [], []]\n",
      "[[], [], [], []]\n",
      "[[], [], [], []]\n",
      "[[56], [], [], []]\n",
      "[[], [], [], []]\n",
      "[[], [], [], []]\n",
      "[[], [], [], []]\n",
      "[[], [], [], []]\n",
      "[[], [], [], []]\n",
      "[[], [], [], []]\n",
      "[[], [], [], []]\n",
      "[[], [], [], []]\n"
     ]
    }
   ],
   "source": [
    "f857=converter.parse('http://kern.humdrum.org/cgi-bin/ksdata?l=osu/classical/bach/wtc-1&file=wtc1f12.krn&f=kern')\n",
    "\n",
    "s=f857.parts[0]\n",
    "a=f857.parts[1]\n",
    "t=f857.parts[2]\n",
    "b=f857.parts[3]\n",
    "\n",
    "sr=s.recurse().notes\n",
    "ar=a.recurse().notes\n",
    "tr=t.recurse().notes\n",
    "br=b.recurse().notes\n",
    "\n",
    "partList=[sr,ar,tr,br]\n",
    "\n",
    "searchListE = [note.Note('E'), note.Note('F##')]\n",
    "searchListCb = [note.Note('C-'), note.Note('D')]\n",
    "searchListGb = [note.Note('G-'), note.Note('A')]\n",
    "searchListDb = [note.Note('D-'), note.Note('E')]\n",
    "searchListAb = [note.Note('A-'), note.Note('B')]\n",
    "searchListEb = [note.Note('E-'), note.Note('F#')]\n",
    "searchListBb = [note.Note('B-'), note.Note('C#')]\n",
    "searchListF = [note.Note('F'), note.Note('G#')]\n",
    "searchListC = [note.Note('C'), note.Note('D#')]\n",
    "searchListG = [note.Note('G'), note.Note('A#')]\n",
    "searchListD = [note.Note('D'), note.Note('E#')]\n",
    "searchListA = [note.Note('A'), note.Note('B#')]\n",
    "\n",
    "searchLists = [searchListE, searchListCb, searchListGb, searchListDb, searchListAb, searchListEb, searchListBb,searchListF,searchListC, searchListG, searchListD, searchListA]\n",
    "\n",
    "\n",
    "totallist=[]\n",
    "\n",
    "for searchList in searchLists:\n",
    "\n",
    "    allpList=[]\n",
    "    for pList in partList:\n",
    "        mlst=search.noteNameSearch(pList,searchList)\n",
    "        mlist=[]\n",
    "        for i in mlst:\n",
    "            if pList[i].pitch.frequency>pList[i+1].pitch.frequency:\n",
    "                mlist.append(pList[i].measureNumber)\n",
    "        allpList.append(mlist)\n",
    "    totallist.append(allpList)\n",
    "\n",
    "for i in totallist:\n",
    "    print(i)"
   ]
  },
  {
   "cell_type": "code",
   "execution_count": null,
   "metadata": {
    "collapsed": true
   },
   "outputs": [],
   "source": []
  },
  {
   "cell_type": "code",
   "execution_count": 46,
   "metadata": {
    "collapsed": true
   },
   "outputs": [],
   "source": []
  },
  {
   "cell_type": "code",
   "execution_count": null,
   "metadata": {
    "collapsed": true
   },
   "outputs": [],
   "source": []
  },
  {
   "cell_type": "code",
   "execution_count": null,
   "metadata": {
    "collapsed": true
   },
   "outputs": [],
   "source": []
  },
  {
   "cell_type": "code",
   "execution_count": 52,
   "metadata": {
    "collapsed": true
   },
   "outputs": [],
   "source": [
    "def dim_7_down(file):\n",
    "    \n",
    "    f=converter.parse(file)\n",
    "    \n",
    "    partList=[]\n",
    "    \n",
    "    for num in range(len(f.parts)):\n",
    "        partList.append(f.parts[num].recurse().notes)\n",
    "\n",
    "    searchListE = [note.Note('E'), note.Note('F##')]\n",
    "    searchListCb = [note.Note('C-'), note.Note('D')]\n",
    "    searchListGb = [note.Note('G-'), note.Note('A')]\n",
    "    searchListDb = [note.Note('D-'), note.Note('E')]\n",
    "    searchListAb = [note.Note('A-'), note.Note('B')]\n",
    "    searchListEb = [note.Note('E-'), note.Note('F#')]\n",
    "    searchListBb = [note.Note('B-'), note.Note('C#')]\n",
    "    searchListF = [note.Note('F'), note.Note('G#')]\n",
    "    searchListC = [note.Note('C'), note.Note('D#')]\n",
    "    searchListG = [note.Note('G'), note.Note('A#')]\n",
    "    searchListD = [note.Note('D'), note.Note('E#')]\n",
    "    searchListA = [note.Note('A'), note.Note('B#')]\n",
    "\n",
    "    searchLists = [searchListE, searchListCb, searchListGb, searchListDb, searchListAb, searchListEb, searchListBb,searchListF,searchListC, searchListG, searchListD, searchListA]\n",
    "\n",
    "\n",
    "    totallist=[]\n",
    "\n",
    "    for searchList in searchLists:\n",
    "\n",
    "        allpList=[]\n",
    "        for pList in partList:\n",
    "            mlst=search.noteNameSearch(pList,searchList)\n",
    "            mlist=[]\n",
    "            for i in mlst:\n",
    "                if pList[i].pitch.frequency>pList[i+1].pitch.frequency:\n",
    "                    mlist.append(pList[i].measureNumber)\n",
    "            allpList.append(mlist)\n",
    "        totallist.append(allpList)\n",
    "\n",
    "    return totallist"
   ]
  },
  {
   "cell_type": "code",
   "execution_count": 97,
   "metadata": {},
   "outputs": [
    {
     "data": {
      "text/plain": [
       "[[[], [], []],\n",
       " [[], [], []],\n",
       " [[], [], []],\n",
       " [[], [], []],\n",
       " [[], [], []],\n",
       " [[], [], []],\n",
       " [[21], [], []],\n",
       " [[6], [17, 28], [1, 26]],\n",
       " [[13], [3], []],\n",
       " [[], [], []],\n",
       " [[], [], []],\n",
       " [[], [], []]]"
      ]
     },
     "execution_count": 97,
     "metadata": {},
     "output_type": "execute_result"
    }
   ],
   "source": [
    "dim_7_down(a_2)"
   ]
  },
  {
   "cell_type": "code",
   "execution_count": 88,
   "metadata": {
    "collapsed": true
   },
   "outputs": [],
   "source": [
    "#kern files:\n",
    "    #http://kern.humdrum.org/search?s=t&keyword=bach+wtc&type=Text\n",
    "    \n",
    "C_1='http://kern.humdrum.org/cgi-bin/ksdata?l=osu/classical/bach/wtc-1&file=wtc1f01.krn&f=kern'\n",
    "c_1='http://kern.humdrum.org/cgi-bin/ksdata?l=osu/classical/bach/wtc-1&file=wtc1f02.krn&f=kern'\n",
    "Csh_1='http://kern.humdrum.org/cgi-bin/ksdata?l=osu/classical/bach/wtc-1&file=wtc1f03.krn&f=kern'\n",
    "csh_1='http://kern.humdrum.org/cgi-bin/ksdata?l=osu/classical/bach/wtc-1&file=wtc1f04.krn&f=kern'\n",
    "D_1='http://kern.humdrum.org/cgi-bin/ksdata?l=osu/classical/bach/wtc-1&file=wtc1f05.krn&f=kern'\n",
    "d_1='http://kern.humdrum.org/cgi-bin/ksdata?l=osu/classical/bach/wtc-1&file=wtc1f06.krn&f=kern'\n",
    "Efl_1='http://kern.humdrum.org/cgi-bin/ksdata?l=osu/classical/bach/wtc-1&file=wtc1f07.krn&f=kern'\n",
    "dsh_1='http://kern.humdrum.org/cgi-bin/ksdata?l=osu/classical/bach/wtc-1&file=wtc1f08.krn&f=kern'\n",
    "E_1='http://kern.humdrum.org/cgi-bin/ksdata?l=osu/classical/bach/wtc-1&file=wtc1f09.krn&f=kern'\n",
    "e_1='http://kern.humdrum.org/cgi-bin/ksdata?l=osu/classical/bach/wtc-1&file=wtc1f10.krn&f=kern'\n",
    "F_1='http://kern.humdrum.org/cgi-bin/ksdata?l=osu/classical/bach/wtc-1&file=wtc1f11.krn&f=kern'\n",
    "f_1='http://kern.humdrum.org/cgi-bin/ksdata?l=osu/classical/bach/wtc-1&file=wtc1f12.krn&f=kern'\n",
    "Fsh_1='http://kern.humdrum.org/cgi-bin/ksdata?l=osu/classical/bach/wtc-1&file=wtc1f13.krn&f=kern'\n",
    "fsh_1='http://kern.humdrum.org/cgi-bin/ksdata?l=osu/classical/bach/wtc-1&file=wtc1f14.krn&f=kern'\n",
    "G_1='http://kern.humdrum.org/cgi-bin/ksdata?l=osu/classical/bach/wtc-1&file=wtc1f15.krn&f=kern'\n",
    "g_1='http://kern.humdrum.org/cgi-bin/ksdata?l=osu/classical/bach/wtc-1&file=wtc1f16.krn&f=kern'\n",
    "Afl_1='http://kern.humdrum.org/cgi-bin/ksdata?l=osu/classical/bach/wtc-1&file=wtc1f17.krn&f=kern'\n",
    "gsh_1='http://kern.humdrum.org/cgi-bin/ksdata?l=osu/classical/bach/wtc-1&file=wtc1f18.krn&f=kern'\n",
    "A_1='http://kern.humdrum.org/cgi-bin/ksdata?l=osu/classical/bach/wtc-1&file=wtc1f19.krn&f=kern'\n",
    "a_1='http://kern.humdrum.org/cgi-bin/ksdata?l=osu/classical/bach/wtc-1&file=wtc1f20.krn&f=kern'\n",
    "Bfl_1='http://kern.humdrum.org/cgi-bin/ksdata?l=osu/classical/bach/wtc-1&file=wtc1f21.krn&f=kern'\n",
    "bfl_1='http://kern.humdrum.org/cgi-bin/ksdata?l=osu/classical/bach/wtc-1&file=wtc1f22.krn&f=kern'\n",
    "B_1='http://kern.humdrum.org/cgi-bin/ksdata?l=osu/classical/bach/wtc-1&file=wtc1f23.krn&f=kern'\n",
    "b_1='http://kern.humdrum.org/cgi-bin/ksdata?l=osu/classical/bach/wtc-1&file=wtc1f24.krn&f=kern'\n",
    "\n",
    "C_2 = 'http://kern.humdrum.org/cgi-bin/ksdata?l=osu/classical/bach/wtc-2&file=wtc2f01.krn&f=kern'\n",
    "c_2='http://kern.humdrum.org/cgi-bin/ksdata?l=osu/classical/bach/wtc-2&file=wtc2f02.krn&f=kern'\n",
    "Csh_2='http://kern.humdrum.org/cgi-bin/ksdata?l=osu/classical/bach/wtc-2&file=wtc2f03.krn&f=kern'\n",
    "csh_2='http://kern.humdrum.org/cgi-bin/ksdata?l=osu/classical/bach/wtc-2&file=wtc2f04.krn&f=kern'\n",
    "D_2='http://kern.humdrum.org/cgi-bin/ksdata?l=osu/classical/bach/wtc-2&file=wtc2f05.krn&f=kern'\n",
    "d_2='http://kern.humdrum.org/cgi-bin/ksdata?l=osu/classical/bach/wtc-2&file=wtc2f06.krn&f=kern'\n",
    "Efl_2='http://kern.humdrum.org/cgi-bin/ksdata?l=osu/classical/bach/wtc-2&file=wtc2f07.krn&f=kern'\n",
    "dsh_2='http://kern.humdrum.org/cgi-bin/ksdata?l=osu/classical/bach/wtc-2&file=wtc2f08.krn&f=kern'\n",
    "E_2='http://kern.humdrum.org/cgi-bin/ksdata?l=osu/classical/bach/wtc-2&file=wtc2f09.krn&f=kern'\n",
    "e_2='http://kern.humdrum.org/cgi-bin/ksdata?l=osu/classical/bach/wtc-2&file=wtc2f10.krn&f=kern'\n",
    "F_2='http://kern.humdrum.org/cgi-bin/ksdata?l=osu/classical/bach/wtc-2&file=wtc2f11.krn&f=kern'\n",
    "f_2='http://kern.humdrum.org/cgi-bin/ksdata?l=osu/classical/bach/wtc-2&file=wtc2f12.krn&f=kern'\n",
    "Fsh_2='http://kern.humdrum.org/cgi-bin/ksdata?l=osu/classical/bach/wtc-2&file=wtc2f13.krn&f=kern'\n",
    "fsh_2='http://kern.humdrum.org/cgi-bin/ksdata?l=osu/classical/bach/wtc-2&file=wtc2f14.krn&f=kern'\n",
    "G_2='http://kern.humdrum.org/cgi-bin/ksdata?l=osu/classical/bach/wtc-2&file=wtc2f15.krn&f=kern'\n",
    "g_2='http://kern.humdrum.org/cgi-bin/ksdata?l=osu/classical/bach/wtc-2&file=wtc2f16.krn&f=kern'\n",
    "Afl_2='http://kern.humdrum.org/cgi-bin/ksdata?l=osu/classical/bach/wtc-2&file=wtc2f17.krn&f=kern'\n",
    "gsh_2='http://kern.humdrum.org/cgi-bin/ksdata?l=osu/classical/bach/wtc-2&file=wtc2f18.krn&f=kern'\n",
    "A_2='http://kern.humdrum.org/cgi-bin/ksdata?l=osu/classical/bach/wtc-2&file=wtc2f19.krn&f=kern'\n",
    "a_2='http://kern.humdrum.org/cgi-bin/ksdata?l=osu/classical/bach/wtc-2&file=wtc2f20.krn&f=kern'\n",
    "Bfl_2='http://kern.humdrum.org/cgi-bin/ksdata?l=osu/classical/bach/wtc-2&file=wtc2f21.krn&f=kern'\n",
    "bfl_2='http://kern.humdrum.org/cgi-bin/ksdata?l=osu/classical/bach/wtc-2&file=wtc2f22.krn&f=kern'\n",
    "B_2='http://kern.humdrum.org/cgi-bin/ksdata?l=osu/classical/bach/wtc-2&file=wtc2f23.krn&f=kern'\n",
    "b_2='http://kern.humdrum.org/cgi-bin/ksdata?l=osu/classical/bach/wtc-2&file=wtc2f24.krn&f=kern'\n"
   ]
  },
  {
   "cell_type": "code",
   "execution_count": null,
   "metadata": {},
   "outputs": [],
   "source": []
  },
  {
   "cell_type": "code",
   "execution_count": null,
   "metadata": {},
   "outputs": [],
   "source": []
  },
  {
   "cell_type": "code",
   "execution_count": null,
   "metadata": {
    "collapsed": true
   },
   "outputs": [],
   "source": []
  }
 ],
 "metadata": {
  "kernelspec": {
   "display_name": "Python 3",
   "language": "python",
   "name": "python3"
  },
  "language_info": {
   "codemirror_mode": {
    "name": "ipython",
    "version": 3
   },
   "file_extension": ".py",
   "mimetype": "text/x-python",
   "name": "python",
   "nbconvert_exporter": "python",
   "pygments_lexer": "ipython3",
   "version": "3.6.3"
  }
 },
 "nbformat": 4,
 "nbformat_minor": 2
}
